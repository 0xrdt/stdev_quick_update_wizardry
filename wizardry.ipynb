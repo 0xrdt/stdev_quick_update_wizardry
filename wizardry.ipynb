{
 "cells": [
  {
   "cell_type": "code",
   "execution_count": 177,
   "metadata": {},
   "outputs": [],
   "source": [
    "import numpy as np"
   ]
  },
  {
   "cell_type": "markdown",
   "metadata": {},
   "source": [
    "## First try"
   ]
  },
  {
   "cell_type": "markdown",
   "metadata": {},
   "source": [
    "### initial array"
   ]
  },
  {
   "cell_type": "code",
   "execution_count": 183,
   "metadata": {},
   "outputs": [],
   "source": [
    "arr = [0.27903358, 0.66813685, 0.72073981, 0.54324703, 0.19464269, \n",
    "\t\t   0.41102104, 0.19986179, 0.35450891, 0.22924373, 0.27188447, 0.17604976]\n",
    "\n",
    "arr = np.array(arr)"
   ]
  },
  {
   "cell_type": "code",
   "execution_count": 184,
   "metadata": {},
   "outputs": [],
   "source": [
    "def sample_std_dev(arr):\n",
    "\treturn np.sqrt(np.sum(((arr-np.mean(arr))**2))/(len(arr)-1))\n"
   ]
  },
  {
   "cell_type": "code",
   "execution_count": 185,
   "metadata": {},
   "outputs": [
    {
     "data": {
      "text/plain": [
       "0.36803360545454544"
      ]
     },
     "execution_count": 185,
     "metadata": {},
     "output_type": "execute_result"
    }
   ],
   "source": [
    "np.mean(arr)"
   ]
  },
  {
   "cell_type": "code",
   "execution_count": 186,
   "metadata": {},
   "outputs": [
    {
     "data": {
      "text/plain": [
       "0.18557685530349188"
      ]
     },
     "execution_count": 186,
     "metadata": {},
     "output_type": "execute_result"
    }
   ],
   "source": [
    "arr.std()"
   ]
  },
  {
   "cell_type": "code",
   "execution_count": 187,
   "metadata": {},
   "outputs": [
    {
     "data": {
      "text/plain": [
       "0.1946346478578942"
      ]
     },
     "execution_count": 187,
     "metadata": {},
     "output_type": "execute_result"
    }
   ],
   "source": [
    "sample_std_dev(arr)"
   ]
  },
  {
   "cell_type": "markdown",
   "metadata": {},
   "source": [
    "### let's insert a new value"
   ]
  },
  {
   "cell_type": "code",
   "execution_count": 188,
   "metadata": {},
   "outputs": [],
   "source": [
    "new_val = 11\n",
    "new_arr = np.array(list(arr)+[11])"
   ]
  },
  {
   "cell_type": "code",
   "execution_count": 189,
   "metadata": {},
   "outputs": [
    {
     "data": {
      "text/plain": [
       "2.9438869348898646"
      ]
     },
     "execution_count": 189,
     "metadata": {},
     "output_type": "execute_result"
    }
   ],
   "source": [
    "new_arr.std()"
   ]
  },
  {
   "cell_type": "code",
   "execution_count": 190,
   "metadata": {},
   "outputs": [
    {
     "data": {
      "text/plain": [
       "3.0747896221453903"
      ]
     },
     "execution_count": 190,
     "metadata": {},
     "output_type": "execute_result"
    }
   ],
   "source": [
    "sample_std_dev(new_arr)"
   ]
  },
  {
   "cell_type": "code",
   "execution_count": 191,
   "metadata": {},
   "outputs": [],
   "source": [
    "old_mean = np.mean(arr)\n",
    "old_population_std_dev = np.std(arr)\n",
    "old_len = len(arr)"
   ]
  },
  {
   "cell_type": "code",
   "execution_count": 192,
   "metadata": {},
   "outputs": [
    {
     "data": {
      "text/plain": [
       "1.254030805"
      ]
     },
     "execution_count": 192,
     "metadata": {},
     "output_type": "execute_result"
    }
   ],
   "source": [
    "new_mean = ((old_mean*old_len)+new_val)/(old_len+1) # mean = sum(arr)/(len(arr))\n",
    "new_mean"
   ]
  },
  {
   "cell_type": "code",
   "execution_count": 193,
   "metadata": {},
   "outputs": [
    {
     "data": {
      "text/plain": [
       "0.0"
      ]
     },
     "execution_count": 193,
     "metadata": {},
     "output_type": "execute_result"
    }
   ],
   "source": [
    "new_mean - np.mean(new_arr) # ok it worked"
   ]
  },
  {
   "cell_type": "code",
   "execution_count": 195,
   "metadata": {},
   "outputs": [],
   "source": [
    "n = old_len+1\n",
    "new_sample_variance = ((n-2)*old_population_std_dev**2 + (new_val-new_mean)*(new_val-old_mean))/(n-1)\n",
    "n = n+1\n",
    "new_std_variance = ((n-2)*old_population_std_dev**2 + (new_val-new_mean)*(new_val-old_mean))/(n-1)\n",
    "\n",
    "new_sample_std_dev = np.sqrt(new_sample_variance)\n",
    "new_population_std_dev = np.sqrt(new_std_variance)"
   ]
  },
  {
   "cell_type": "code",
   "execution_count": 196,
   "metadata": {},
   "outputs": [
    {
     "data": {
      "text/plain": [
       "2.943886934889864"
      ]
     },
     "execution_count": 196,
     "metadata": {},
     "output_type": "execute_result"
    }
   ],
   "source": [
    "new_population_std_dev"
   ]
  },
  {
   "cell_type": "code",
   "execution_count": 197,
   "metadata": {},
   "outputs": [
    {
     "data": {
      "text/plain": [
       "3.0742804724440442"
      ]
     },
     "execution_count": 197,
     "metadata": {},
     "output_type": "execute_result"
    }
   ],
   "source": [
    "new_sample_std_dev"
   ]
  },
  {
   "cell_type": "code",
   "execution_count": 198,
   "metadata": {},
   "outputs": [],
   "source": [
    "# they're not exact but it's pretty close"
   ]
  },
  {
   "cell_type": "markdown",
   "metadata": {},
   "source": [
    "# Function\n",
    "Now we can organize this method and turn it into a function"
   ]
  },
  {
   "cell_type": "code",
   "execution_count": 199,
   "metadata": {},
   "outputs": [],
   "source": [
    "def get_sample_std_dev(arr):\n",
    "\treturn np.sqrt(np.sum(((arr-np.mean(arr))**2))/(len(arr)-1))"
   ]
  },
  {
   "cell_type": "code",
   "execution_count": 200,
   "metadata": {},
   "outputs": [],
   "source": [
    "def get_new_mean(old_len, old_mean, new_val):\n",
    "\treturn ((old_mean*old_len)+new_val)/(old_len+1) # mean = sum(arr)/(len(arr))\n",
    "\n",
    "def get_new_dev(old_len, old_mean, new_val, old_dev, sample=False):\n",
    "\tnew_mean = get_new_mean(old_len, old_mean, new_val)\n",
    "\tif sample:\n",
    "\t\tn = old_len+1\n",
    "\t\treturn np.sqrt(((n-2)*old_dev**2 + (new_val-new_mean)*(new_val-old_mean))/(n-1))\n",
    "\telse:\n",
    "\t\tn = old_len+2 # \n",
    "\t\treturn np.sqrt(((n-2)*old_dev**2 + (new_val-new_mean)*(new_val-old_mean))/(n-1))"
   ]
  },
  {
   "cell_type": "code",
   "execution_count": 201,
   "metadata": {},
   "outputs": [],
   "source": [
    "old_arr = [0.27903358, 0.66813685, 0.72073981, 0.54324703, 0.19464269, \n",
    "\t\t   0.41102104, 0.19986179, 0.35450891, 0.22924373, 0.27188447, 0.17604976]\n",
    "old_len = len(old_arr) # O(1) operation\n",
    "\n",
    "old_mean = np.mean(old_arr) # O(n) operation\n",
    "old_dev = np.std(old_arr) # O(n) operation\n",
    "\n",
    "new_val = 11"
   ]
  },
  {
   "cell_type": "markdown",
   "metadata": {},
   "source": [
    "### stdev"
   ]
  },
  {
   "cell_type": "code",
   "execution_count": 202,
   "metadata": {},
   "outputs": [
    {
     "data": {
      "text/plain": [
       "2.943886934889864"
      ]
     },
     "execution_count": 202,
     "metadata": {},
     "output_type": "execute_result"
    }
   ],
   "source": [
    "old_dev = np.std(old_arr) # O(n) operation\n",
    "get_new_dev(old_len, old_mean, new_val, old_population_std_dev, sample=False)\n"
   ]
  },
  {
   "cell_type": "code",
   "execution_count": 203,
   "metadata": {},
   "outputs": [
    {
     "data": {
      "text/plain": [
       "2.9438869348898646"
      ]
     },
     "execution_count": 203,
     "metadata": {},
     "output_type": "execute_result"
    }
   ],
   "source": [
    "new_arr = np.array(list(old_arr)+[new_val])\n",
    "new_arr.std()"
   ]
  },
  {
   "cell_type": "markdown",
   "metadata": {},
   "source": [
    "### sample dev"
   ]
  },
  {
   "cell_type": "code",
   "execution_count": 204,
   "metadata": {},
   "outputs": [
    {
     "data": {
      "text/plain": [
       "3.07478962214539"
      ]
     },
     "execution_count": 204,
     "metadata": {},
     "output_type": "execute_result"
    }
   ],
   "source": [
    "old_sample_std_dev = get_sample_std_dev(old_arr)\n",
    "get_new_dev(old_len, old_mean, new_val, old_sample_std_dev, sample=True)"
   ]
  },
  {
   "cell_type": "code",
   "execution_count": 205,
   "metadata": {},
   "outputs": [
    {
     "data": {
      "text/plain": [
       "3.0747896221453903"
      ]
     },
     "execution_count": 205,
     "metadata": {},
     "output_type": "execute_result"
    }
   ],
   "source": [
    "new_arr = np.array(list(old_arr)+[new_val])\n",
    "get_sample_std_dev(new_arr)"
   ]
  },
  {
   "cell_type": "markdown",
   "metadata": {},
   "source": [
    "# Testing"
   ]
  },
  {
   "cell_type": "code",
   "execution_count": 206,
   "metadata": {},
   "outputs": [
    {
     "name": "stdout",
     "output_type": "stream",
     "text": [
      "array_size: 10, insertion_size: 1, new_population_std_dev_error_pct: 0.0000%, new_sample_std_dev_error_pct: 0.0000%, new_mean_error_pct: 0.0000%\n",
      "array_size: 10, insertion_size: 10, new_population_std_dev_error_pct: 0.0000%, new_sample_std_dev_error_pct: 0.0000%, new_mean_error_pct: 0.0000%\n",
      "array_size: 10, insertion_size: 100, new_population_std_dev_error_pct: -0.0000%, new_sample_std_dev_error_pct: 0.0000%, new_mean_error_pct: 0.0000%\n",
      "array_size: 10, insertion_size: 1000, new_population_std_dev_error_pct: 0.0000%, new_sample_std_dev_error_pct: 0.0000%, new_mean_error_pct: -0.0000%\n",
      "array_size: 10, insertion_size: 10000, new_population_std_dev_error_pct: -0.0000%, new_sample_std_dev_error_pct: -0.0000%, new_mean_error_pct: 0.0000%\n",
      "array_size: 100, insertion_size: 1, new_population_std_dev_error_pct: 0.0000%, new_sample_std_dev_error_pct: 0.0000%, new_mean_error_pct: 0.0000%\n",
      "array_size: 100, insertion_size: 10, new_population_std_dev_error_pct: -0.0000%, new_sample_std_dev_error_pct: 0.0000%, new_mean_error_pct: 0.0000%\n",
      "array_size: 100, insertion_size: 100, new_population_std_dev_error_pct: -0.0000%, new_sample_std_dev_error_pct: 0.0000%, new_mean_error_pct: 0.0000%\n",
      "array_size: 100, insertion_size: 1000, new_population_std_dev_error_pct: -0.0000%, new_sample_std_dev_error_pct: 0.0000%, new_mean_error_pct: -0.0000%\n",
      "array_size: 100, insertion_size: 10000, new_population_std_dev_error_pct: 0.0000%, new_sample_std_dev_error_pct: -0.0000%, new_mean_error_pct: 0.0000%\n",
      "array_size: 10000, insertion_size: 1, new_population_std_dev_error_pct: -0.0000%, new_sample_std_dev_error_pct: -0.0000%, new_mean_error_pct: 0.0000%\n",
      "array_size: 10000, insertion_size: 10, new_population_std_dev_error_pct: 0.0000%, new_sample_std_dev_error_pct: 0.0000%, new_mean_error_pct: -0.0000%\n",
      "array_size: 10000, insertion_size: 100, new_population_std_dev_error_pct: 0.0000%, new_sample_std_dev_error_pct: 0.0000%, new_mean_error_pct: 0.0000%\n",
      "array_size: 10000, insertion_size: 1000, new_population_std_dev_error_pct: -0.0000%, new_sample_std_dev_error_pct: -0.0000%, new_mean_error_pct: 0.0000%\n",
      "array_size: 10000, insertion_size: 10000, new_population_std_dev_error_pct: -0.0000%, new_sample_std_dev_error_pct: 0.0000%, new_mean_error_pct: -0.0000%\n"
     ]
    }
   ],
   "source": [
    "array_sizes = [10, 100, 10000]\n",
    "insertion_sizes = [1, 10, 100, 1000, 10000]\n",
    "#array_sizes = [10]\n",
    "#insertion_sizes = [3]\n",
    "\n",
    "for array_size in array_sizes:\n",
    "\tfor insertion_size in insertion_sizes:\n",
    "\t\t\n",
    "\t\t# bootstrap\n",
    "\t\told_arr = np.random.rand(array_size)\n",
    "\t\t\n",
    "\t\tnew_values = np.random.rand(insertion_size)\n",
    "\t\t\n",
    "\t\told_mean = np.mean(old_arr)\n",
    "\t\told_population_std_dev = np.std(old_arr)\n",
    "\t\told_sample_std_dev = sample_std_dev(old_arr)\n",
    "\t\told_len = len(old_arr)\n",
    "\n",
    "\t\t# assume we don't have the old_arr anymore, we are only keeping it\n",
    "\t\t# to compute the error between np.std()/get_sample_std_dev and our method\n",
    "\n",
    "\t\t# update vlaues using our method\n",
    "\t\tfor new_val in new_values[0:-1]:\n",
    "\t\t\t\n",
    "\t\t\t# only used to compute the error as well\n",
    "\t\t\tnew_arr = np.array(list(old_arr)+[new_val])\n",
    "\n",
    "\t\t\tnew_mean = get_new_mean(old_len, old_mean, new_val)\n",
    "\t\t\tnew_population_std_dev = get_new_dev(old_len, old_mean, new_val, old_population_std_dev, sample=False)\n",
    "\t\t\tnew_sample_std_dev = get_new_dev(old_len, old_mean, new_val, old_sample_std_dev, sample=True)\n",
    "\n",
    "\t\t\told_arr = new_arr\n",
    "\t\t\told_mean = new_mean\n",
    "\t\t\told_population_std_dev = new_population_std_dev\n",
    "\t\t\told_sample_std_dev = new_sample_std_dev\n",
    "\t\t\told_len = old_len+1\n",
    "\n",
    "\t\tnew_val = new_values[-1]\n",
    "\t\t\n",
    "\t\tnew_arr = np.array(list(old_arr)+[new_val])\n",
    "\n",
    "\t\tnew_mean = get_new_mean(old_len, old_mean, new_val)\n",
    "\t\tnew_population_std_dev = get_new_dev(old_len, old_mean, new_val, old_population_std_dev, sample=False)\n",
    "\t\tnew_sample_std_dev = get_new_dev(old_len, old_mean, new_val, old_sample_std_dev, sample=True)\n",
    "\n",
    "\t\tnew_population_std_dev_error_pct = 100*(new_population_std_dev - np.std(new_arr))/np.std(new_arr)\n",
    "\t\tnew_sample_std_dev_error_pct = 100*(new_sample_std_dev - get_sample_std_dev(new_arr))/get_sample_std_dev(new_arr)\n",
    "\t\tnew_mean_error_pct = 100*(new_mean - np.mean(new_arr))/np.mean(new_arr)\n",
    "\n",
    "\t\tprint(\"array_size: {}, insertion_size: {}, new_population_std_dev_error_pct: {:.4f}%, new_sample_std_dev_error_pct: {:.4f}%, new_mean_error_pct: {:.4f}%\".\\\n",
    "\t\t\tformat(array_size, insertion_size, new_population_std_dev_error_pct, new_sample_std_dev_error_pct, new_mean_error_pct))\n",
    "\t\t\n",
    "\t\t\t\n",
    "\t\t\t"
   ]
  }
 ],
 "metadata": {
  "kernelspec": {
   "display_name": "Python 3.8.3 64-bit",
   "language": "python",
   "name": "python3"
  },
  "language_info": {
   "codemirror_mode": {
    "name": "ipython",
    "version": 3
   },
   "file_extension": ".py",
   "mimetype": "text/x-python",
   "name": "python",
   "nbconvert_exporter": "python",
   "pygments_lexer": "ipython3",
   "version": "3.8.3"
  },
  "orig_nbformat": 4,
  "vscode": {
   "interpreter": {
    "hash": "9d6dadcebd93d10ddf0e4aefcad36886be2481d6279a0b4577869a17f5110262"
   }
  }
 },
 "nbformat": 4,
 "nbformat_minor": 2
}
